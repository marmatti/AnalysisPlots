{
 "cells": [
  {
   "cell_type": "markdown",
   "metadata": {},
   "source": [
    "# MDAnalysis Tutorial "
   ]
  },
  {
   "cell_type": "markdown",
   "metadata": {},
   "source": [
    "## Preparations"
   ]
  },
  {
   "cell_type": "markdown",
   "metadata": {},
   "source": [
    "### Loading MDAnalysis"
   ]
  },
  {
   "cell_type": "code",
   "execution_count": 1,
   "metadata": {},
   "outputs": [],
   "source": [
    "#!which python\n",
    "import numpy as np\n",
    "import MDAnalysis as mda\n",
    "#from MDAnalysis.tests.datafiles import PSF, DCD, GRO, TRR\n",
    "from MDAnalysis.analysis import rms\n",
    "import pandas as pd\n",
    "#import nglview as nv\n",
    "import MDAnalysis.transformations\n",
    "from MDAnalysis.analysis import diffusionmap, align, rms\n",
    "import os\n",
    "%matplotlib inline\n",
    "import matplotlib.pyplot as plt"
   ]
  },
  {
   "cell_type": "code",
   "execution_count": 2,
   "metadata": {},
   "outputs": [
    {
     "data": {
      "text/plain": [
       "'2.6.1'"
      ]
     },
     "execution_count": 2,
     "metadata": {},
     "output_type": "execute_result"
    }
   ],
   "source": [
    "mda.__version__"
   ]
  },
  {
   "cell_type": "code",
   "execution_count": 3,
   "metadata": {},
   "outputs": [
    {
     "name": "stdout",
     "output_type": "stream",
     "text": [
      "MDAnalysisTrajectoryGlobalAlphaSyn.ipynb\n",
      "PlottingRgRMSD.ipynb\n",
      "trajMolearn_stride_proteinH_center_unwrap.pdb\n"
     ]
    }
   ],
   "source": [
    "!ls"
   ]
  },
  {
   "cell_type": "markdown",
   "metadata": {},
   "source": [
    "## Basics"
   ]
  },
  {
   "cell_type": "markdown",
   "metadata": {},
   "source": [
    "### Universe, AtomGroup and Trajectory\n",
    "\n",
    "MDAnalysis is an object oriented library, meaning that data from your molecular simulations are made available through various MDAnalysis objects, which will be introduced here.\n",
    "\n",
    "The first object in any analysis is the `Universe` object, which is the central data structure from which all other objects are created.  This is created through providing a topology (description of the system) and trajectory (description of the temporal data) file."
   ]
  },
  {
   "cell_type": "code",
   "execution_count": 4,
   "metadata": {},
   "outputs": [
    {
     "name": "stdout",
     "output_type": "stream",
     "text": [
      "<Universe with 439 atoms>\n"
     ]
    }
   ],
   "source": [
    "u = mda.Universe('../trajMolearn_stride_proteinH_center_unwrap.pdb', dt=1000)\n",
    "#protein = u.select_atoms(\"protein and not name H*\")\n",
    "print(u)"
   ]
  },
  {
   "cell_type": "code",
   "execution_count": 5,
   "metadata": {},
   "outputs": [],
   "source": [
    "aligner = align.AlignTraj(u, u, select='protein and not name H*',\n",
    "                          in_memory=True).run()"
   ]
  },
  {
   "cell_type": "code",
   "execution_count": 6,
   "metadata": {},
   "outputs": [
    {
     "name": "stderr",
     "output_type": "stream",
     "text": [
      "/home/marmatt/miniforge3/envs/molearn/lib/python3.10/site-packages/MDAnalysis/coordinates/PDB.py:1151: UserWarning: Found no information for attr: 'formalcharges' Using default value of '0'\n",
      "  warnings.warn(\"Found no information for attr: '{}'\"\n",
      "/home/marmatt/miniforge3/envs/molearn/lib/python3.10/site-packages/MDAnalysis/coordinates/PDB.py:1198: UserWarning: Found missing chainIDs. Corresponding atoms will use value of 'X'\n",
      "  warnings.warn(\"Found missing chainIDs.\"\n"
     ]
    }
   ],
   "source": [
    "ag = u.select_atoms('all')\n",
    "with MDAnalysis.Writer(\"alignToProteinH.pdb\", ag.n_atoms) as W:\n",
    "    for ts in u.trajectory:\n",
    "        W.write(ag)"
   ]
  },
  {
   "cell_type": "code",
   "execution_count": 7,
   "metadata": {},
   "outputs": [],
   "source": [
    "# Calculate radius of gyration in all frames of trajectory\n",
    "\n",
    "Rgyr2KKW = []\n",
    "\n",
    "for ts in u.trajectory:\n",
    "    Rgyr2KKW.append((u.trajectory.time, u.atoms.radius_of_gyration()))\n",
    "    \n",
    "Rgyr2KKW = np.array(Rgyr2KKW)\n",
    "Rgyr2KKW[:,0] = Rgyr2KKW[:,0]/1000 #make sure units are in ns, must be run once only\n",
    "df_alpha_syn_rg = pd.DataFrame(Rgyr2KKW, columns=['Time (ns)', 'Rg'])\n",
    "df_alpha_syn_rg.to_csv('alpha-syn_Rg_data.csv')"
   ]
  },
  {
   "cell_type": "code",
   "execution_count": 8,
   "metadata": {},
   "outputs": [
    {
     "name": "stderr",
     "output_type": "stream",
     "text": [
      "/home/marmatt/miniforge3/envs/molearn/lib/python3.10/site-packages/MDAnalysis/analysis/diffusionmap.py:288: DeprecationWarning: The `dist_matrix` attribute was deprecated in MDAnalysis 2.0.0 and will be removed in MDAnalysis 3.0.0. Please use `results.dist_matrix` instead.\n",
      "  warnings.warn(wmsg, DeprecationWarning)\n"
     ]
    }
   ],
   "source": [
    "from MDAnalysis.analysis import diffusionmap, align, rms\n",
    "#calculate pairwise-RMSD\n",
    "matrix = diffusionmap.DistanceMatrix(u, select='name CA').run()\n",
    "\n",
    "df_alpha_syn_pairRMSD = pd.DataFrame(matrix.dist_matrix)\n",
    "\n",
    "df_alpha_syn_pairRMSD.to_csv('alpha-syn_pairRMSD_data.csv')"
   ]
  }
 ],
 "metadata": {
  "kernelspec": {
   "display_name": "Python 3 (ipykernel)",
   "language": "python",
   "name": "python3"
  },
  "language_info": {
   "codemirror_mode": {
    "name": "ipython",
    "version": 3
   },
   "file_extension": ".py",
   "mimetype": "text/x-python",
   "name": "python",
   "nbconvert_exporter": "python",
   "pygments_lexer": "ipython3",
   "version": "3.10.13"
  }
 },
 "nbformat": 4,
 "nbformat_minor": 4
}
